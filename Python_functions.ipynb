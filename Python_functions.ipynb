{
  "nbformat": 4,
  "nbformat_minor": 0,
  "metadata": {
    "colab": {
      "provenance": []
    },
    "kernelspec": {
      "name": "python3",
      "display_name": "Python 3"
    },
    "language_info": {
      "name": "python"
    }
  },
  "cells": [
    {
      "cell_type": "code",
      "execution_count": null,
      "metadata": {
        "id": "eX0IHLlD2-mZ"
      },
      "outputs": [],
      "source": [
        "# Define the four basic mathematical operations as functions\n",
        "def add(n1, n2):\n",
        "    return n1 + n2\n",
        "\n",
        "def subtract(n1, n2):\n",
        "    return n1 - n2\n",
        "\n",
        "def multiply(n1, n2):\n",
        "    return n1 * n2\n",
        "\n",
        "def divide(n1, n2):\n",
        "    return n1 / n2\n",
        "\n",
        "# Create a dictionary that assigns functions to their corresponding operation symbols\n",
        "operations = {\n",
        "    \"+\": add,\n",
        "    \"-\": subtract,\n",
        "    \"*\": multiply,\n",
        "    \"/\": divide\n",
        "}\n",
        "\n",
        "def calculator():\n",
        "    print(\"Welcome to the Calculator Program!\")\n",
        "    num1 = float(input(\"What's the first number?: \"))\n",
        "\n",
        "    # Use a for loop to print the available operation symbols\n",
        "    for symbol in operations:\n",
        "        print(symbol)\n",
        "\n",
        "    should_continue = True\n",
        "\n",
        "    # Create a while loop to continue the calculation\n",
        "    while should_continue:\n",
        "        operation_symbol = input(\"Pick an operation: \")\n",
        "        num2 = float(input(\"What's the next number?: \"))\n",
        "\n",
        "        # Retrieve the function corresponding to the selected operation symbol\n",
        "        calculation_function = operations[operation_symbol]\n",
        "\n",
        "        # Perform the calculation and store the result\n",
        "        answer = calculation_function(num1, num2)\n",
        "\n",
        "        # Print the equation and the result\n",
        "        print(f\"{num1} {operation_symbol} {num2} = {answer}\")\n",
        "\n",
        "        # Ask if the user wants to continue with the result\n",
        "        user_choice = input(f\"Type 'y' to continue calculating with {answer}, 'n' to start a new calculation, or 'exit' to leave the calculator: \").lower()\n",
        "        if user_choice == 'y':\n",
        "            num1 = answer\n",
        "        elif user_choice == 'n':\n",
        "            should_continue = False\n",
        "            calculator()  # Start a new calculation\n",
        "        elif user_choice == 'exit':\n",
        "            print(\"Goodbye!\")\n",
        "            should_continue = False\n",
        "        else:\n",
        "            print(\"Invalid input. Please try again.\")\n",
        "\n",
        "# Call the calculator function to start the program\n",
        "calculator()\n"
      ]
    }
  ]
}