{
  "nbformat": 4,
  "nbformat_minor": 0,
  "metadata": {
    "colab": {
      "provenance": []
    },
    "kernelspec": {
      "name": "python3",
      "display_name": "Python 3"
    },
    "language_info": {
      "name": "python"
    }
  },
  "cells": [
    {
      "cell_type": "code",
      "execution_count": null,
      "metadata": {
        "id": "eX0IHLlD2-mZ"
      },
      "outputs": [],
      "source": [
        "#Python Syntax Checkpoint\n",
        "print(\"Welcome to Python Pizza Deliveries\")\n",
        "\n",
        "size = input(\"What is the size of pizza do you want to order? (S : Small, M : Medium, L : Large) \")\n",
        "while size not in ['S','M','L']:\n",
        "    size = input(\"\"\"What is the size of pizza do you want to order? (S : Small, M : Medium, L : Large)\n",
        "                    Please Enter VALID CHOICE \"\"\")\n",
        "\n",
        "add_pepperoni = input(\"Do you want pepperoni in your pizza sir? (Y : Yes, N : No) \")\n",
        "while add_pepperoni not in ['Y','N']:\n",
        "    add_pepperoni = input(\"\"\"Do you want pepperoni in your pizza sir? (Y : Yes, N : No)\n",
        "                             Please Enter VALID CHOICE \"\"\")\n",
        "\n",
        "extra_cheese = input(\"Last thing! Do you want extra cheese on your pizza? (Y : Yes, N : No) \")\n",
        "while extra_cheese not in ['Y','N']:\n",
        "    extra_cheese = input(\"\"\"Last thing! Do you want extra cheese on your pizza? (Y : Yes, N : No)\n",
        "                            Please Enter VALID CHOICE \"\"\")\n",
        "\n",
        "final_bill = 0\n",
        "if size == 'S':\n",
        "    final_bill = 15\n",
        "    if add_pepperoni == 'Y':\n",
        "        final_bill+=2\n",
        "elif size == 'M':\n",
        "    final_bill = 20\n",
        "    if add_pepperoni == 'Y':\n",
        "        final_bill+=3\n",
        "else:\n",
        "    final_bill = 25\n",
        "    if add_pepperoni == 'Y':\n",
        "        final_bill+=3\n",
        "\n",
        "if extra_cheese == 'Y':\n",
        "    final_bill+=1\n",
        "\n",
        "print(f\"Your final bill is: {final_bill}$\")"
      ]
    }
  ]
}