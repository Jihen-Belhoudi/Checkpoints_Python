{
  "nbformat": 4,
  "nbformat_minor": 0,
  "metadata": {
    "colab": {
      "provenance": []
    },
    "kernelspec": {
      "name": "python3",
      "display_name": "Python 3"
    },
    "language_info": {
      "name": "python"
    }
  },
  "cells": [
    {
      "cell_type": "code",
      "execution_count": null,
      "metadata": {
        "id": "eX0IHLlD2-mZ"
      },
      "outputs": [],
      "source": [
        "#Python Data structure Checkpoint\n",
        "shopping_list = []\n",
        "max_items = 10\n",
        "\n",
        "while True:\n",
        "    print(\"\\nMenu:\")\n",
        "    print(\"1. Add an item\")\n",
        "    print(\"2. Remove an item\")\n",
        "    print(\"3. View the shopping list\")\n",
        "    print(\"4. Exit\")\n",
        "\n",
        "    choice = input(\"Enter your choice: \")\n",
        "\n",
        "    if choice == \"1\":\n",
        "        if len(shopping_list) < max_items:\n",
        "            item = input(\"Enter the item to add: \")\n",
        "            shopping_list.append(item)\n",
        "            print(f\"{item} has been added to the list.\")\n",
        "        else:\n",
        "            print(f\"Sorry, you can only add up to {max_items} items.\")\n",
        "\n",
        "    elif choice == \"2\":\n",
        "        item = input(\"Enter the item to remove: \")\n",
        "        if item in shopping_list:\n",
        "            shopping_list.remove(item)\n",
        "            print(f\"{item} has been removed from the list.\")\n",
        "        else:\n",
        "            print(f\"{item} is not in the shopping list.\")\n",
        "\n",
        "    elif choice == \"3\":\n",
        "        print(\"\\nShopping List:\")\n",
        "        for n in range(len(shopping_list)):\n",
        "             print(shopping_list[n])\n",
        "\n",
        "\n",
        "    elif choice == \"4\":\n",
        "        print(\"Exiting the program.\")\n",
        "        break\n",
        "\n",
        "    else:\n",
        "        print(\"Invalid choice. Please enter a number between 1 and 4.\")"
      ]
    }
  ]
}